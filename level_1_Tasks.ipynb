{
 "cells": [
  {
   "cell_type": "code",
   "execution_count": 1,
   "id": "e2184d6d",
   "metadata": {},
   "outputs": [
    {
     "data": {
      "text/html": [
       "<div>\n",
       "<style scoped>\n",
       "    .dataframe tbody tr th:only-of-type {\n",
       "        vertical-align: middle;\n",
       "    }\n",
       "\n",
       "    .dataframe tbody tr th {\n",
       "        vertical-align: top;\n",
       "    }\n",
       "\n",
       "    .dataframe thead th {\n",
       "        text-align: right;\n",
       "    }\n",
       "</style>\n",
       "<table border=\"1\" class=\"dataframe\">\n",
       "  <thead>\n",
       "    <tr style=\"text-align: right;\">\n",
       "      <th></th>\n",
       "      <th>Restaurant ID</th>\n",
       "      <th>Restaurant Name</th>\n",
       "      <th>Country Code</th>\n",
       "      <th>City</th>\n",
       "      <th>Address</th>\n",
       "      <th>Locality</th>\n",
       "      <th>Locality Verbose</th>\n",
       "      <th>Longitude</th>\n",
       "      <th>Latitude</th>\n",
       "      <th>Cuisines</th>\n",
       "      <th>Average Cost for two</th>\n",
       "      <th>Currency</th>\n",
       "      <th>Has Table booking</th>\n",
       "      <th>Has Online delivery</th>\n",
       "      <th>Is delivering now</th>\n",
       "      <th>Switch to order menu</th>\n",
       "      <th>Price range</th>\n",
       "      <th>Aggregate rating</th>\n",
       "      <th>Rating color</th>\n",
       "      <th>Rating text</th>\n",
       "      <th>Votes</th>\n",
       "    </tr>\n",
       "  </thead>\n",
       "  <tbody>\n",
       "    <tr>\n",
       "      <th>0</th>\n",
       "      <td>6317637</td>\n",
       "      <td>le petit souffle</td>\n",
       "      <td>162</td>\n",
       "      <td>makati city</td>\n",
       "      <td>third floor, century city mall, kalayaan avenu...</td>\n",
       "      <td>century city mall, poblacion, makati city</td>\n",
       "      <td>century city mall, poblacion, makati city, mak...</td>\n",
       "      <td>121.027535</td>\n",
       "      <td>14.565443</td>\n",
       "      <td>french, japanese, desserts</td>\n",
       "      <td>1100.0</td>\n",
       "      <td>botswana pula(p)</td>\n",
       "      <td>yes</td>\n",
       "      <td>no</td>\n",
       "      <td>no</td>\n",
       "      <td>no</td>\n",
       "      <td>3</td>\n",
       "      <td>4.8</td>\n",
       "      <td>dark green</td>\n",
       "      <td>excellent</td>\n",
       "      <td>314</td>\n",
       "    </tr>\n",
       "    <tr>\n",
       "      <th>1</th>\n",
       "      <td>6304287</td>\n",
       "      <td>izakaya kikufuji</td>\n",
       "      <td>162</td>\n",
       "      <td>makati city</td>\n",
       "      <td>little tokyo, 2277 chino roces avenue, legaspi...</td>\n",
       "      <td>little tokyo, legaspi village, makati city</td>\n",
       "      <td>little tokyo, legaspi village, makati city, ma...</td>\n",
       "      <td>121.014101</td>\n",
       "      <td>14.553708</td>\n",
       "      <td>japanese</td>\n",
       "      <td>1200.0</td>\n",
       "      <td>botswana pula(p)</td>\n",
       "      <td>yes</td>\n",
       "      <td>no</td>\n",
       "      <td>no</td>\n",
       "      <td>no</td>\n",
       "      <td>3</td>\n",
       "      <td>4.5</td>\n",
       "      <td>dark green</td>\n",
       "      <td>excellent</td>\n",
       "      <td>591</td>\n",
       "    </tr>\n",
       "    <tr>\n",
       "      <th>2</th>\n",
       "      <td>6300002</td>\n",
       "      <td>heat - edsa shangri-la</td>\n",
       "      <td>162</td>\n",
       "      <td>mandaluyong city</td>\n",
       "      <td>edsa shangri-la, 1 garden way, ortigas, mandal...</td>\n",
       "      <td>edsa shangri-la, ortigas, mandaluyong city</td>\n",
       "      <td>edsa shangri-la, ortigas, mandaluyong city, ma...</td>\n",
       "      <td>121.056831</td>\n",
       "      <td>14.581404</td>\n",
       "      <td>seafood, asian, filipino, indian</td>\n",
       "      <td>400.0</td>\n",
       "      <td>botswana pula(p)</td>\n",
       "      <td>yes</td>\n",
       "      <td>no</td>\n",
       "      <td>no</td>\n",
       "      <td>no</td>\n",
       "      <td>4</td>\n",
       "      <td>4.4</td>\n",
       "      <td>green</td>\n",
       "      <td>very good</td>\n",
       "      <td>270</td>\n",
       "    </tr>\n",
       "    <tr>\n",
       "      <th>3</th>\n",
       "      <td>6318506</td>\n",
       "      <td>ooma</td>\n",
       "      <td>162</td>\n",
       "      <td>mandaluyong city</td>\n",
       "      <td>third floor, mega fashion hall, sm megamall, o...</td>\n",
       "      <td>sm megamall, ortigas, mandaluyong city</td>\n",
       "      <td>sm megamall, ortigas, mandaluyong city, mandal...</td>\n",
       "      <td>121.056475</td>\n",
       "      <td>14.585318</td>\n",
       "      <td>japanese, sushi</td>\n",
       "      <td>400.0</td>\n",
       "      <td>botswana pula(p)</td>\n",
       "      <td>no</td>\n",
       "      <td>no</td>\n",
       "      <td>no</td>\n",
       "      <td>no</td>\n",
       "      <td>4</td>\n",
       "      <td>4.9</td>\n",
       "      <td>dark green</td>\n",
       "      <td>excellent</td>\n",
       "      <td>365</td>\n",
       "    </tr>\n",
       "    <tr>\n",
       "      <th>4</th>\n",
       "      <td>6314302</td>\n",
       "      <td>sambo kojin</td>\n",
       "      <td>162</td>\n",
       "      <td>mandaluyong city</td>\n",
       "      <td>third floor, mega atrium, sm megamall, ortigas...</td>\n",
       "      <td>sm megamall, ortigas, mandaluyong city</td>\n",
       "      <td>sm megamall, ortigas, mandaluyong city, mandal...</td>\n",
       "      <td>121.057508</td>\n",
       "      <td>14.584450</td>\n",
       "      <td>japanese, korean</td>\n",
       "      <td>400.0</td>\n",
       "      <td>botswana pula(p)</td>\n",
       "      <td>yes</td>\n",
       "      <td>no</td>\n",
       "      <td>no</td>\n",
       "      <td>no</td>\n",
       "      <td>4</td>\n",
       "      <td>4.8</td>\n",
       "      <td>dark green</td>\n",
       "      <td>excellent</td>\n",
       "      <td>229</td>\n",
       "    </tr>\n",
       "  </tbody>\n",
       "</table>\n",
       "</div>"
      ],
      "text/plain": [
       "   Restaurant ID         Restaurant Name  Country Code              City  \\\n",
       "0        6317637        le petit souffle           162       makati city   \n",
       "1        6304287        izakaya kikufuji           162       makati city   \n",
       "2        6300002  heat - edsa shangri-la           162  mandaluyong city   \n",
       "3        6318506                    ooma           162  mandaluyong city   \n",
       "4        6314302             sambo kojin           162  mandaluyong city   \n",
       "\n",
       "                                             Address  \\\n",
       "0  third floor, century city mall, kalayaan avenu...   \n",
       "1  little tokyo, 2277 chino roces avenue, legaspi...   \n",
       "2  edsa shangri-la, 1 garden way, ortigas, mandal...   \n",
       "3  third floor, mega fashion hall, sm megamall, o...   \n",
       "4  third floor, mega atrium, sm megamall, ortigas...   \n",
       "\n",
       "                                     Locality  \\\n",
       "0   century city mall, poblacion, makati city   \n",
       "1  little tokyo, legaspi village, makati city   \n",
       "2  edsa shangri-la, ortigas, mandaluyong city   \n",
       "3      sm megamall, ortigas, mandaluyong city   \n",
       "4      sm megamall, ortigas, mandaluyong city   \n",
       "\n",
       "                                    Locality Verbose   Longitude   Latitude  \\\n",
       "0  century city mall, poblacion, makati city, mak...  121.027535  14.565443   \n",
       "1  little tokyo, legaspi village, makati city, ma...  121.014101  14.553708   \n",
       "2  edsa shangri-la, ortigas, mandaluyong city, ma...  121.056831  14.581404   \n",
       "3  sm megamall, ortigas, mandaluyong city, mandal...  121.056475  14.585318   \n",
       "4  sm megamall, ortigas, mandaluyong city, mandal...  121.057508  14.584450   \n",
       "\n",
       "                           Cuisines  Average Cost for two          Currency  \\\n",
       "0        french, japanese, desserts                1100.0  botswana pula(p)   \n",
       "1                          japanese                1200.0  botswana pula(p)   \n",
       "2  seafood, asian, filipino, indian                 400.0  botswana pula(p)   \n",
       "3                   japanese, sushi                 400.0  botswana pula(p)   \n",
       "4                  japanese, korean                 400.0  botswana pula(p)   \n",
       "\n",
       "  Has Table booking Has Online delivery Is delivering now  \\\n",
       "0               yes                  no                no   \n",
       "1               yes                  no                no   \n",
       "2               yes                  no                no   \n",
       "3                no                  no                no   \n",
       "4               yes                  no                no   \n",
       "\n",
       "  Switch to order menu  Price range  Aggregate rating Rating color  \\\n",
       "0                   no            3               4.8   dark green   \n",
       "1                   no            3               4.5   dark green   \n",
       "2                   no            4               4.4        green   \n",
       "3                   no            4               4.9   dark green   \n",
       "4                   no            4               4.8   dark green   \n",
       "\n",
       "  Rating text  Votes  \n",
       "0   excellent    314  \n",
       "1   excellent    591  \n",
       "2   very good    270  \n",
       "3   excellent    365  \n",
       "4   excellent    229  "
      ]
     },
     "execution_count": 1,
     "metadata": {},
     "output_type": "execute_result"
    }
   ],
   "source": [
    "import pandas as pd\n",
    "import matplotlib.pyplot as plt\n",
    "import seaborn as sns\n",
    "\n",
    "pd.set_option(\"display.max_columns\",None)\n",
    "\n",
    "df = pd.read_csv(\"D:\\ITM\\Data_Analysis\\ZZ COGNIFYZ internship task\\Clean Dataset\\cleaned_dataset.csv\")\n",
    "\n",
    "df.head()"
   ]
  },
  {
   "cell_type": "markdown",
   "id": "5c9baf79",
   "metadata": {},
   "source": [
    "# Level - 1 :- Market Overview and Service Distribution\n"
   ]
  },
  {
   "cell_type": "markdown",
   "id": "40666812",
   "metadata": {},
   "source": [
    "---------------------------"
   ]
  },
  {
   "cell_type": "markdown",
   "id": "a6940ab2",
   "metadata": {},
   "source": [
    "### Task - 1 :- Task: Top Cuisines\n",
    " \n",
    "-> Determine the top three most common cuisines in the dataset."
   ]
  },
  {
   "cell_type": "code",
   "execution_count": 2,
   "id": "f1262d40",
   "metadata": {},
   "outputs": [
    {
     "name": "stdout",
     "output_type": "stream",
     "text": [
      "Cuisines\n",
      "north indian    3960\n",
      "chinese         2735\n",
      "fast food       1986\n",
      "Name: count, dtype: int64\n"
     ]
    }
   ],
   "source": [
    "# make sure all Cuisines column values into the string format.\n",
    "df[\"Cuisines\"] = df[\"Cuisines\"].astype(\"str\")\n",
    "\n",
    "# Separate multiple cuisines into individual rows for accurate counting\n",
    "indi_Cuisines_name = df[\"Cuisines\"].str.split(\",\").explode().str.strip().str.lower()    \n",
    "\n",
    "# find the top 3 Cuisines\n",
    "top_cuisines = indi_Cuisines_name.value_counts().head(3)\n",
    "\n",
    "print(top_cuisines)\n"
   ]
  },
  {
   "cell_type": "code",
   "execution_count": 3,
   "id": "a4002e04",
   "metadata": {},
   "outputs": [
    {
     "data": {
      "image/png": "[encoded data removed]",
      "text/plain": [
       "<Figure size 600x400 with 1 Axes>"
      ]
     },
     "metadata": {},
     "output_type": "display_data"
    }
   ],
   "source": [
    "plot_df = pd.DataFrame({\n",
    "    'Cuisine': top_cuisines.index.str.title(),\n",
    "    'Count': top_cuisines.values\n",
    "})\n",
    "\n",
    "\n",
    "plt.figure(figsize=(6, 4))\n",
    "ax = sns.barplot(data=plot_df, x='Count', y='Cuisine', hue='Cuisine', palette='viridis', legend=False)\n",
    "\n",
    "# Add count labels on each bar using loop\n",
    "for i, v in enumerate(plot_df['Count']):\n",
    "    ax.text(v / 2, i, str(v), color='black', va='center', fontweight='bold')\n",
    "    \n",
    "plt.title(\"Top 3 Most Common Cuisines\")\n",
    "plt.xlabel(\"Number of Restaurants\")\n",
    "plt.ylabel(\"Cuisine\")\n",
    "plt.tight_layout()\n",
    "plt.show()\n"
   ]
  },
  {
   "cell_type": "markdown",
   "id": "ed686f80",
   "metadata": {},
   "source": [
    "-> Calculate the percentage of restaurants that serve each of the top cuisines."
   ]
  },
  {
   "cell_type": "code",
   "execution_count": 4,
   "id": "2f075ba8",
   "metadata": {},
   "outputs": [
    {
     "name": "stdout",
     "output_type": "stream",
     "text": [
      "9542\n"
     ]
    }
   ],
   "source": [
    "# Total number of restaurants\n",
    "total_restaurants = df.shape[0]\n",
    "\n",
    "print(total_restaurants)"
   ]
  },
  {
   "cell_type": "markdown",
   "id": "a59bb63e",
   "metadata": {},
   "source": [
    "- There are 9542 total restaurants."
   ]
  },
  {
   "cell_type": "code",
   "execution_count": 16,
   "id": "1cd043fe",
   "metadata": {},
   "outputs": [
    {
     "name": "stdout",
     "output_type": "stream",
     "text": [
      "Cuisines\n",
      "north indian    41.50\n",
      "chinese         28.66\n",
      "fast food       20.81\n",
      "Name: count, dtype: float64\n"
     ]
    }
   ],
   "source": [
    "# Find the percentage of restaurants that serve each of the top cuisines.\n",
    "\n",
    "percentage_cuisines = ((top_cuisines / total_restaurants) * 100).round(2)\n",
    "\n",
    "print(percentage_cuisines)"
   ]
  },
  {
   "cell_type": "markdown",
   "id": "71d48ced",
   "metadata": {},
   "source": [
    "#### Summary :-\n",
    "\n",
    "- The top 3 cuisines served across restaurants are **North Indian (3960)**, **Chinese (2735)**, and **Fast Food (1986)**, contributing approximately **41.50%**, **28.66%**, and **20.81%** respectively to the overall cuisine distribution.\n",
    "\n"
   ]
  },
  {
   "cell_type": "markdown",
   "id": "afc39cc6",
   "metadata": {},
   "source": [
    "--------------"
   ]
  },
  {
   "cell_type": "markdown",
   "id": "76a214f2",
   "metadata": {},
   "source": [
    "### Task 2 :- City Analysis\n",
    " \n",
    "-> Identify the city with the highest number of restaurants in the dataset."
   ]
  },
  {
   "cell_type": "code",
   "execution_count": 17,
   "id": "95a03c7e",
   "metadata": {},
   "outputs": [
    {
     "name": "stdout",
     "output_type": "stream",
     "text": [
      "\n",
      "Top 5 City with Highest number of restaurants:-\n",
      "City\n",
      "new delhi    5473\n",
      "gurgaon      1118\n",
      "noida        1080\n",
      "faridabad     251\n",
      "ghaziabad      25\n",
      "Name: count, dtype: int64\n",
      "\n",
      "Percentage contribution:-\n",
      "City\n",
      "new delhi    57.36\n",
      "gurgaon      11.72\n",
      "noida        11.32\n",
      "faridabad     2.63\n",
      "ghaziabad     0.26\n",
      "Name: count, dtype: float64\n"
     ]
    }
   ],
   "source": [
    "# Count restaurants per city\n",
    "city_counts = df['City'].value_counts().head(5)\n",
    "\n",
    "# Total number of restaurants\n",
    "total_restaurants = df.shape[0]\n",
    "\n",
    "# Calculate percentage contribution\n",
    "city_percent = ((city_counts / total_restaurants) * 100).round(2)\n",
    "\n",
    "print(\"\\nTop 5 City with Highest number of restaurants:-\")\n",
    "print(city_counts)\n",
    "\n",
    "print(\"\\nPercentage contribution:-\")\n",
    "print(city_percent)\n"
   ]
  },
  {
   "cell_type": "markdown",
   "id": "391d76c1",
   "metadata": {},
   "source": [
    "- all Top 5 city with the highest number of restaurants are in the india."
   ]
  },
  {
   "cell_type": "markdown",
   "id": "42cdbb2f",
   "metadata": {},
   "source": [
    "-> Calculate the average rating for restaurants in each city. "
   ]
  },
  {
   "cell_type": "code",
   "execution_count": 7,
   "id": "12f522d1",
   "metadata": {},
   "outputs": [
    {
     "name": "stdout",
     "output_type": "stream",
     "text": [
      "City\n",
      "inner city          4.900000\n",
      "quezon city         4.800000\n",
      "makati city         4.650000\n",
      "pasig city          4.633333\n",
      "mandaluyong city    4.625000\n",
      "                      ...   \n",
      "new delhi           2.438845\n",
      "montville           2.400000\n",
      "mc millan           2.400000\n",
      "noida               2.036204\n",
      "faridabad           1.866932\n",
      "Name: Aggregate rating, Length: 140, dtype: float64\n"
     ]
    }
   ],
   "source": [
    "avg_rating_per_city = df.groupby('City')['Aggregate rating'].mean().sort_values(ascending=False)\n",
    "\n",
    "print(avg_rating_per_city)"
   ]
  },
  {
   "cell_type": "markdown",
   "id": "918b7cc5",
   "metadata": {},
   "source": [
    "-> Determine the city with the highest average rating."
   ]
  },
  {
   "cell_type": "code",
   "execution_count": 8,
   "id": "ee4eac36",
   "metadata": {},
   "outputs": [
    {
     "name": "stdout",
     "output_type": "stream",
     "text": [
      "\n",
      " Top 10 highest avg. rating city:-\n",
      "               City  Average Rating\n",
      "0        inner city        4.900000\n",
      "1       quezon city        4.800000\n",
      "2       makati city        4.650000\n",
      "3        pasig city        4.633333\n",
      "4  mandaluyong city        4.625000\n",
      "5        beechworth        4.600000\n",
      "6            london        4.535000\n",
      "7       taguig city        4.525000\n",
      "8           lincoln        4.500000\n",
      "9     tagaytay city        4.500000\n"
     ]
    }
   ],
   "source": [
    "# Check top 10 city with highest averageS rating.\n",
    "\n",
    "avg_rating_df = avg_rating_per_city.reset_index().rename(columns={'Aggregate rating': 'Average Rating'})\n",
    "\n",
    "print(\"\\n Top 10 highest avg. rating city:-\")\n",
    "print(avg_rating_df.head(10))\n"
   ]
  },
  {
   "cell_type": "markdown",
   "id": "eb780148",
   "metadata": {},
   "source": [
    "#### Summary :-\n",
    "\n",
    "- Top 5 cities with the highest restaurants are **New Delhi**, **Gurgaon**, **Noida**, **Faridabad**, and **Ghaziabad**. New Delhi alone contributes around **57.35%** of the total data.\n",
    "\n",
    "- There are overall 140 cities.\n",
    "\n",
    "- Top 10 highest avg. rating cities are **Inner City (4.90)**, **Quezon City (4.80)**, **Makati City (4.65)**, and others with ratings above **4.50**, showing strong customer satisfaction."
   ]
  },
  {
   "cell_type": "markdown",
   "id": "3d739b9b",
   "metadata": {},
   "source": [
    "----------"
   ]
  },
  {
   "cell_type": "markdown",
   "id": "5e0de105",
   "metadata": {},
   "source": [
    "### Task 3 :- Price Range Distribution"
   ]
  },
  {
   "cell_type": "markdown",
   "id": "1e01c2c0",
   "metadata": {},
   "source": [
    "-> Price Range Distribution Create a histogram or bar chart to visualize the distribution of price ranges among the restaurants.\n",
    " \n",
    "-> Calculate the percentage of restaurants in each price range category."
   ]
  },
  {
   "cell_type": "code",
   "execution_count": 18,
   "id": "3af3c6be",
   "metadata": {},
   "outputs": [
    {
     "name": "stdout",
     "output_type": "stream",
     "text": [
      "   Price range  Total restaurants  Percentage_restaurants\n",
      "0            1               4438                   46.51\n",
      "1            2               3113                   32.62\n",
      "2            3               1405                   14.72\n",
      "3            4                586                    6.14\n"
     ]
    }
   ],
   "source": [
    "# Total restaurants in each price range.\n",
    "total_restaurants_count = df[\"Price range\"].value_counts().sort_index()\n",
    "\n",
    "# Total restaurants\n",
    "total_restaurants = df.shape[0]\n",
    "\n",
    "# Calculate the percentage of restaurants in each price range category.\n",
    "percentage_restaurants = (total_restaurants_count / total_restaurants * 100).round(2)\n",
    "\n",
    "\n",
    "# Create a dataframe to show findings in the better way.\n",
    "price_df = pd.DataFrame({\n",
    "    \"Price range\" : total_restaurants_count.index,\n",
    "    \"Total restaurants\" : total_restaurants_count.values,\n",
    "    \"Percentage_restaurants\" : percentage_restaurants.values\n",
    "})\n",
    "\n",
    "\n",
    "print(price_df)"
   ]
  },
  {
   "cell_type": "code",
   "execution_count": null,
   "id": "9cd9fbc9",
   "metadata": {},
   "outputs": [
    {
     "data": {
      "image/png": "[encoded data removed]",
      "text/plain": [
       "<Figure size 600x400 with 1 Axes>"
      ]
     },
     "metadata": {},
     "output_type": "display_data"
    }
   ],
   "source": [
    "plt.figure(figsize=(6, 4))\n",
    "\n",
    "ax = sns.barplot(data=price_df, x='Price range', y='Total restaurants', palette='pastel', hue='Price range')\n",
    "\n",
    "# Add count labels inside each bar\n",
    "for i, v in enumerate(price_df['Total restaurants']):\n",
    "    ax.text(i, v / 2, str(v), color='black', ha='center', va='center', fontweight='bold')\n",
    "\n",
    "plt.title(\"Price Range Distribution of Restaurants\")\n",
    "plt.xlabel(\"Price Range (Low to High)\")\n",
    "plt.ylabel(\"Number of Restaurants\")\n",
    "plt.tight_layout()\n",
    "plt.show()\n"
   ]
  },
  {
   "cell_type": "markdown",
   "id": "1e3a06be",
   "metadata": {},
   "source": [
    "#### Summary :-\n",
    "\n",
    "- There are total 9542 restaurants.\n",
    "\n",
    "-> Price range distributions low to high. (1 = low and 4 = high)\n",
    "\n",
    "- There are Total **4438** restaurants in the Price range **1** which hold the total **46.51%** of market.\n",
    "- in Price range 4 there are only **586** restaurants which are high Price range restaurants, which hold only **6.14%** market.\n",
    "- it show that around **75%** restaurants (price range 1 and 2) affordable.\n"
   ]
  },
  {
   "cell_type": "markdown",
   "id": "533f92e8",
   "metadata": {},
   "source": [
    "-----"
   ]
  },
  {
   "cell_type": "markdown",
   "id": "41b1af93",
   "metadata": {},
   "source": [
    "### Task 4 :- Online Delivery\n",
    "\n",
    "-> Determine the percentage of restaurants that offer online delivery.\n",
    "\n"
   ]
  },
  {
   "cell_type": "code",
   "execution_count": 11,
   "id": "fd9763c8",
   "metadata": {},
   "outputs": [
    {
     "name": "stdout",
     "output_type": "stream",
     "text": [
      "  Online Delivery  Total restaurants  Percentage\n",
      "0              no               7091       74.31\n",
      "1             yes               2451       25.69\n"
     ]
    }
   ],
   "source": [
    "# find the resturants which are offer online delivery.\n",
    "online_delivery_restaurants = df['Has Online delivery'].value_counts()\n",
    "\n",
    "# find the total resturants\n",
    "total_restaurants = df.shape[0]\n",
    "\n",
    "# find the percentage of restaurants that offer onlive delivery.\n",
    "percentage_restaurants_online_delivery = (online_delivery_restaurants/total_restaurants * 100).round(2) \n",
    "\n",
    "online_delivery_restaurants_df = pd.DataFrame({\n",
    "    \"Online Delivery\" : online_delivery_restaurants.index,\n",
    "    \"Total restaurants\" : online_delivery_restaurants.values,\n",
    "    \"Percentage\" : percentage_restaurants_online_delivery.values\n",
    "})\n",
    "\n",
    "print(online_delivery_restaurants_df)"
   ]
  },
  {
   "cell_type": "code",
   "execution_count": 22,
   "id": "7d143304",
   "metadata": {},
   "outputs": [
    {
     "data": {
      "image/png": "[encoded data removed]",
      "text/plain": [
       "<Figure size 600x400 with 1 Axes>"
      ]
     },
     "metadata": {},
     "output_type": "display_data"
    }
   ],
   "source": [
    "plt.figure(figsize=(6, 4))\n",
    "sns.barplot(data=online_delivery_restaurants_df,x='Online Delivery',y='Total restaurants',palette='Set2', hue='Online Delivery')\n",
    "\n",
    "# Add value labels on bars\n",
    "for i, v in enumerate(online_delivery_restaurants_df['Percentage']):\n",
    "    plt.text(i, v/2, str(v), ha='center', fontweight='bold')\n",
    "\n",
    "\n",
    "plt.title(\"Online Delivery Service Availability\")\n",
    "plt.xlabel(\"Online Delivery (Yes / No)\")\n",
    "plt.ylabel(\"Number of Restaurants\")\n",
    "plt.tight_layout()\n",
    "plt.show()"
   ]
  },
  {
   "cell_type": "markdown",
   "id": "2072602a",
   "metadata": {},
   "source": [
    "-> Compare the average ratings of restaurants with and without online delivery."
   ]
  },
  {
   "cell_type": "code",
   "execution_count": 12,
   "id": "77224fee",
   "metadata": {},
   "outputs": [
    {
     "name": "stdout",
     "output_type": "stream",
     "text": [
      "Has Online delivery\n",
      "no     2.46\n",
      "yes    3.25\n",
      "Name: Aggregate rating, dtype: float64\n"
     ]
    }
   ],
   "source": [
    "comparision_rating = df.groupby('Has Online delivery')['Aggregate rating'].mean().round(2)\n",
    "\n",
    "print(comparision_rating)"
   ]
  },
  {
   "cell_type": "code",
   "execution_count": 13,
   "id": "f942e247",
   "metadata": {},
   "outputs": [
    {
     "data": {
      "image/png": "[encoded data removed]",
      "text/plain": [
       "<Figure size 600x400 with 1 Axes>"
      ]
     },
     "metadata": {},
     "output_type": "display_data"
    }
   ],
   "source": [
    "rating_df = comparision_rating.reset_index()\n",
    "\n",
    "plt.figure(figsize=(6, 4))\n",
    "ax = sns.barplot(data=rating_df, x='Has Online delivery', y='Aggregate rating', palette='Set2', hue=\"Has Online delivery\")\n",
    "\n",
    "for i, v in enumerate(rating_df['Aggregate rating']):\n",
    "    ax.text(i, v / 2, str(v), color='black', ha='center', va='center', fontweight='bold')\n",
    "\n",
    "plt.title(\"Average Ratings: Online Delivery vs No Online Delivery\")\n",
    "plt.xlabel(\"Online Delivery\")\n",
    "plt.ylabel(\"Average Rating\")\n",
    "plt.tight_layout()\n",
    "plt.show()"
   ]
  },
  {
   "cell_type": "markdown",
   "id": "ffaa5844",
   "metadata": {},
   "source": [
    "#### Summary :-\n",
    "\n",
    "- The **74.31%** restaurant does not give online delivery.\n",
    "- Only **25.69%** restaurant support online delivery.\n",
    "\n",
    "- also, we found that the avg. rating of the **restaurant which support online delivery is 3.25**. \n",
    "- Where as which **restaurant does not support online delivery their avg. rating is 2.46**.\n"
   ]
  },
  {
   "cell_type": "code",
   "execution_count": null,
   "id": "077d1a88",
   "metadata": {},
   "outputs": [],
   "source": []
  },
  {
   "cell_type": "code",
   "execution_count": null,
   "id": "027dc552",
   "metadata": {},
   "outputs": [],
   "source": []
  },
  {
   "cell_type": "code",
   "execution_count": null,
   "id": "721702e1",
   "metadata": {},
   "outputs": [],
   "source": []
  },
  {
   "cell_type": "code",
   "execution_count": null,
   "id": "0cfbe125",
   "metadata": {},
   "outputs": [],
   "source": []
  },
  {
   "cell_type": "code",
   "execution_count": null,
   "id": "4b0ef426",
   "metadata": {},
   "outputs": [],
   "source": []
  },
  {
   "cell_type": "code",
   "execution_count": null,
   "id": "3aa99d85",
   "metadata": {},
   "outputs": [],
   "source": []
  }
 ],
 "metadata": {
  "kernelspec": {
   "display_name": "Python 3",
   "language": "python",
   "name": "python3"
  },
  "language_info": {
   "codemirror_mode": {
    "name": "ipython",
    "version": 3
   },
   "file_extension": ".py",
   "mimetype": "text/x-python",
   "name": "python",
   "nbconvert_exporter": "python",
   "pygments_lexer": "ipython3",
   "version": "3.11.8"
  }
 },
 "nbformat": 4,
 "nbformat_minor": 5
}
